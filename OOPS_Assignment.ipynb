{
  "nbformat": 4,
  "nbformat_minor": 0,
  "metadata": {
    "colab": {
      "provenance": []
    },
    "kernelspec": {
      "name": "python3",
      "display_name": "Python 3"
    },
    "language_info": {
      "name": "python"
    }
  },
  "cells": [
    {
      "cell_type": "markdown",
      "source": [
        "# OOPS"
      ],
      "metadata": {
        "id": "Vfd5iZKanPmv"
      }
    },
    {
      "cell_type": "markdown",
      "source": [
        "1.  What is Object-Oriented Programming (OOP)\n",
        "    - Object-Oriented Programming (OOP) is a programming paradigm that organizes software design around objects, rather than functions or logic. These objects represent real-world entities and are created from classes, which define their structure and behavior.\n",
        "\n",
        "2. What is a class in OOP\n",
        "   - A class in OOP is a blueprint or template used to create objects. It defines the properties (attributes) and behaviors (methods) that the objects created from the class will have.\n",
        "\n",
        "3. What is an object in OOP\n",
        "   - An object is a real-world instance of a class. While a class is a blueprint, an object is the actual thing created using that blueprint — with its own data and behavior.\n",
        "\n",
        "4. What is the difference between abstraction and encapsulation\n",
        "   - Encapsulation (Data Hiding):\n",
        "\n",
        "   Encapsulation binds data and methods that work on that data into a single unit (class).\n",
        "   It hides the internal state of the object from outside interference and misuse.\n",
        "   This is done by making variables private and allowing access through public methods (getters and setters).\n",
        "   It ensures data protection and helps prevent accidental modification of important data.\n",
        "   Encapsulation is mainly used for security and control over data access in a program.\n",
        "\n",
        "   Abstraction (Detail Hiding):\n",
        "\n",
        "   Abstraction hides the complex implementation details and shows only the necessary features.\n",
        "   It helps in focusing on what an object does, instead of how it does it.\n",
        "   This is achieved using abstract classes or interfaces in languages like Java or Python (using abc module).\n",
        "   It improves code readability and maintainability by reducing complexity\n",
        "   Abstraction is mainly used for design clarity and reducing complexity in large systems.\n",
        "\n",
        "5. What are dunder methods in Python\n",
        "   - Dunder methods (short for \"double underscore\" methods) are special methods in Python that start and end with double underscores, like __init__, __str__, __len__, etc. They are also called magic methods or special methods.\n",
        "   Purpose of Dunder Methods:\n",
        "   Dunder methods allow you to define or customize the behavior of your objects for built-in Python operations like:\n",
        "   Object creation,Printing,Adding objects,Comparing objects,Indexing and iteration\n",
        "\n",
        "6. Explain the concept of inheritance in OOP\n",
        "   - Inheritance is an OOP feature that allows a class (child/subclass) to acquire properties and behaviors (attributes and methods) from another class (parent/superclass). It helps in code reuse, hierarchical classification, and makes programs more organized and scalable.\n",
        "   Inheritance allows a developer to reuse existing code from a parent class, reducing the need to write the same logic again in the child class.\n",
        "   By reusing code through inheritance, redundancy is minimized, making the codebase cleaner and more efficient to maintain.\n",
        "   Inheritance enables polymorphism, where different classes can be treated as instances of the same parent class, and supports abstraction by allowing the use of base class references to access derived class objects.\n",
        "   nheritance helps structure code in a way that reflects real-world relationships, such as \"is-a\" hierarchies (e.g., a Dog is an Animal), making the design more natural and understandable.\n",
        "\n",
        "\n",
        "7. What is polymorphism in OOP\n",
        "   - Polymorphism is a core concept in OOP that allows objects of different classes to be treated as objects of a common superclass, while each object can respond differently to the same method call.\n",
        "   The word \"polymorphism\" means \"many forms\", and in programming, it refers to the ability of different classes to define their own version of a method that is defined in a base class.\n",
        "\n",
        "8. How is encapsulation achieved in Python\n",
        "   - Encapsulation in Python is achieved by restricting direct access to an object's data using private variables (prefixing with __). It groups data and related methods inside a class. Access to private data is controlled through getter and setter methods, which help ensure validation and security. This way, Python enforces controlled interaction with object attributes while hiding internal implementation.\n",
        "\n",
        "9. What is a constructor in Python\n",
        "   - A constructor in Python is a special method used to initialize an object when it is created. It is defined using the __init__() method inside a class. This method is automatically called when a new instance of the class is made, and it typically sets the initial values of the object’s attributes.\n",
        "\n",
        "10. What are class and static methods in Python\n",
        "    - In Python, class methods and static methods are special methods that belong to the class rather than the instance.\n",
        "  A class method is defined using the @classmethod decorator and takes cls as its first parameter. It can access and modify class-level data shared by all instances of the class.\n",
        "  A static method is defined using the @staticmethod decorator and takes no default first parameter (neither self nor cls). It does not access class or instance data, and is used for utility functions related to the class.\n",
        "  Class methods are useful for altering class state, while static methods are used for independent operations grouped within the class.\n",
        "\n",
        "11. What is method overloading in Python\n",
        "    - Method overloading refers to the ability to define multiple methods with the same name but different parameters.\n",
        "\n",
        "12. What is method overriding in OOP\n",
        "    - Method overriding is a concept in Object-Oriented Programming where a subclass provides its own implementation of a method that is already defined in its superclass. The method in the child class has the same name, parameters, and return type as in the parent class. This allows the subclass to customize or completely change the behavior of the inherited method.\n",
        "\n",
        "13. What is a property decorator in Python\n",
        "    - In Python, the @property decorator is used to define a method that can be accessed like an attribute. It is commonly used to get the value of a private attribute while still allowing control over how it's accessed. This helps in implementing encapsulation. The method decorated with @property acts as a getter, and can be paired with @<property>.setter to allow setting the value with validation. It provides a cleaner, more Pythonic syntax.\n",
        "\n",
        "14. Why is polymorphism important in OOP\n",
        "    - Simplifies Code: Polymorphism allows the same method name to behave differently for different objects, which simplifies code and reduces duplication.\n",
        "    \n",
        "  Promotes Flexibility:\n",
        "  It lets one interface work with many different underlying data types or classes, making code more flexible and reusable.\n",
        "  \n",
        "  Supports Extensibility:\n",
        "  New classes can be added with minimal changes to existing code, as long as they follow the expected method structure.\n",
        "\n",
        "  Enables Dynamic Behavior:\n",
        "  At runtime, the correct method is chosen based on the object type, allowing more dynamic and adaptable programs.\n",
        "\n",
        "  Enhances Maintainability:\n",
        "  Since code can be written generically, it becomes easier to maintain and update without rewriting core logic.\n",
        "\n",
        "15. What is an abstract class in Python\n",
        "    - An abstract class in Python is a class that cannot be instantiated directly and is meant to be inherited by other classes. It is used to define a common interface for its subclasses.\n",
        "\n",
        "16. What are the advantages of OOP\n",
        "    - Object-Oriented Programming (OOP) offers several key advantages that make software development more efficient and organized. One of the main benefits is modularity, where code is structured into separate classes and objects, making it easier to manage, debug, and maintain. Reusability is another major advantage, as existing classes can be reused in new programs through inheritance, reducing code duplication and saving development time. OOP also promotes encapsulation, which helps protect an object’s internal state by restricting direct access and allowing controlled interaction through methods.\n",
        "\n",
        "17. What is the difference between a class variable and an instance variable\n",
        "    - A class variable is a variable that is shared across all instances of a class. It is defined outside any method, usually directly inside the class body. If one instance changes the value of a class variable, it affects all other instances unless it is overridden. An instance variable, on the other hand, is unique to each object. It is defined inside methods, typically inside the __init__() constructor using self. Changes to an instance variable affect only that specific object and not others.\n",
        "\n",
        "18. What is multiple inheritance in Python\n",
        "    - Multiple inheritance in Python is a feature where a class can inherit from more than one parent class. This allows the child class to access attributes and methods from all of its parent classes.\n",
        "\n",
        "19. Explain the purpose of ‘’__str__’ and ‘__repr__’ ‘ methods in Python\n",
        "    - __str__():\n",
        "    \n",
        "   Called by the built-in str() function or when using print().\n",
        "   Its purpose is to return a user-friendly and readable string representation of the object.\n",
        "   Ideal for displaying information to end users.\n",
        "\n",
        "     __repr__():\n",
        "\n",
        "   Called by the built-in repr() function or when inspecting an object in the interpreter.\n",
        "   Its purpose is to return a developer-friendly, unambiguous string, ideally one that could be used to recreate the object.\n",
        "   Used mainly for debugging and logging.\n",
        "\n",
        "20. What is the significance of the ‘super()’ function in Python\n",
        "    - The super() function in Python is used to call methods from a parent (or superclass) inside a child (or subclass). It allows the child class to access and extend the functionality of its parent without explicitly naming it.\n",
        "     This is especially useful in inheritance, particularly in cases of multiple inheritance, as it helps Python correctly resolve the method resolution order (MRO).\n",
        "     Code Reusability: It reuses parent class logic without rewriting it.\n",
        "     Simplifies Maintenance: Avoids hardcoding parent class names.\n",
        "     Supports Multiple Inheritance: Works correctly with MRO to avoid duplicate calls.\n",
        "     Clean and Readable: Makes code more maintainable.\n",
        "\n",
        "21. What is the significance of the __del__ method in Python\n",
        "    - The __del__() method in Python is a special method known as a destructor. It is automatically called when an object is about to be destroyed, either when it goes out of scope or is explicitly deleted using the del statement. The main purpose of __del__() is to perform cleanup tasks, such as closing open files, releasing memory, or disconnecting from a database. This ensures that system resources are properly released when an object is no longer needed.\n",
        "\n",
        "22. What is the difference between @staticmethod and @classmethod in Python\n",
        "    - In Python, both @staticmethod and @classmethod are decorators used to define special methods that are not regular instance methods. However, they differ in how they interact with the class and its instances. A @classmethod takes cls as its first parameter, which refers to the class itself. It can access or modify class-level attributes and is often used when you want to create methods that operate on the class as a whole, rather than any individual instance. A @staticmethod, on the other hand, does not take self or cls as the first parameter. It behaves like a plain function placed inside a class and cannot access or modify class or instance data. It is used when the method performs a function that is logically related to the class but doesn’t need access to its internal state.\n",
        "\n",
        "23. How does polymorphism work in Python with inheritance\n",
        "    - In Python, polymorphism with inheritance allows different classes to define methods with the same name, and lets the correct version of the method be called depending on the object type — even when using a common base class reference. This is a key feature of runtime polymorphism. When a child class overrides a method from its parent class, Python decides at runtime which version of the method to call based on the actual object being used. This means that the same method call can produce different results depending on the object.\n",
        "\n",
        "24. What is method chaining in Python OOP\n",
        "    - Method chaining in Python is a programming technique where multiple methods are called on the same object in a single line, one after the other. This is possible when each method returns self — the instance of the class — allowing the next method to be called on it. It helps make the code more concise, readable, and fluent, especially when performing a sequence of operations on the same object.\n",
        "\n",
        "25. What is the purpose of the __call__ method in Python\n",
        "   - The __call__() method in Python allows an instance of a class to be called like a regular function. When a class defines the __call__() method, its objects can be \"called\", and this method gets executed. This is useful when you want to make an object behave like a function, especially in situations like decorators, function wrappers, or custom callable behaviors.\n",
        "\n",
        "\n",
        "\n",
        "\n",
        "\n",
        "\n",
        "\n",
        "\n",
        "\n",
        "\n",
        "\n",
        "\n",
        "\n",
        "\n",
        "\n",
        "\n",
        "\n",
        "\n",
        "\n",
        "\n",
        "\n",
        "\n",
        "\n",
        "\n",
        "  \n",
        "\n",
        "\n",
        "\n",
        "\n",
        "\n"
      ],
      "metadata": {
        "id": "fSkUfB8JnfJu"
      }
    },
    {
      "cell_type": "code",
      "execution_count": 1,
      "metadata": {
        "colab": {
          "base_uri": "https://localhost:8080/"
        },
        "id": "jDb385nomuwn",
        "outputId": "74d0420b-d65b-48ed-f92c-4f969f782013"
      },
      "outputs": [
        {
          "output_type": "stream",
          "name": "stdout",
          "text": [
            "The animal makes a sound.\n",
            "Bark!\n"
          ]
        }
      ],
      "source": [
        "'''Create a parent class Animal with a method speak() that prints a generic message. Create a child class Dog\n",
        "that overrides the speak() method to print \"Bark!\".'''\n",
        "class Animal:\n",
        "    def speak(self):\n",
        "        print(\"The animal makes a sound.\")\n",
        "\n",
        "class Dog(Animal):\n",
        "    def speak(self):\n",
        "        print(\"Bark!\")\n",
        "\n",
        "generic_animal = Animal()\n",
        "dog = Dog()\n",
        "\n",
        "generic_animal.speak()\n",
        "dog.speak()\n"
      ]
    },
    {
      "cell_type": "code",
      "source": [
        "''' Write a program to create an abstract class Shape with a method area(). Derive classes Circle and Rectangle\n",
        "from it and implement the area() method in both.'''\n",
        "from abc import ABC, abstractmethod\n",
        "import math\n",
        "\n",
        "class Shape(ABC):\n",
        "    @abstractmethod\n",
        "    def area(self):\n",
        "        pass\n",
        "\n",
        "class Circle(Shape):\n",
        "    def __init__(self, radius):\n",
        "        self.radius = radius\n",
        "\n",
        "    def area(self):\n",
        "        return math.pi * self.radius ** 2\n",
        "\n",
        "class Rectangle(Shape):\n",
        "    def __init__(self, length, width):\n",
        "        self.length = length\n",
        "        self.width = width\n",
        "\n",
        "    def area(self):\n",
        "        return self.length * self.width\n",
        "\n",
        "circle = Circle(5)\n",
        "rectangle = Rectangle(4, 6)\n",
        "\n",
        "print(circle.area())\n",
        "print(rectangle.area())\n",
        "\n",
        "\n",
        "\n"
      ],
      "metadata": {
        "colab": {
          "base_uri": "https://localhost:8080/"
        },
        "id": "pdL1QoLd2CZN",
        "outputId": "a4b9dcc9-ebf4-4f86-bef9-ef13da26bbef"
      },
      "execution_count": 2,
      "outputs": [
        {
          "output_type": "stream",
          "name": "stdout",
          "text": [
            "78.53981633974483\n",
            "24\n"
          ]
        }
      ]
    },
    {
      "cell_type": "code",
      "source": [
        "''' Implement a multi-level inheritance scenario where a class Vehicle has an attribute type. Derive a class Car\n",
        "and further derive a class ElectricCar that adds a battery attribute.'''\n",
        "class Vehicle:\n",
        "    def __init__(self, vehicle_type):\n",
        "        self.type = vehicle_type\n",
        "\n",
        "class Car(Vehicle):\n",
        "    def __init__(self, vehicle_type, brand):\n",
        "        super().__init__(vehicle_type)\n",
        "        self.brand = brand\n",
        "\n",
        "class ElectricCar(Car):\n",
        "    def __init__(self, vehicle_type, brand, battery):\n",
        "        super().__init__(vehicle_type, brand)\n",
        "        self.battery = battery\n",
        "\n",
        "    def show_details(self):\n",
        "        print(f\"Type: {self.type}, Brand: {self.brand}, Battery: {self.battery} kWh\")\n",
        "\n",
        "e_car = ElectricCar(\"Four Wheeler\", \"Tesla\", 75)\n",
        "e_car.show_details()\n"
      ],
      "metadata": {
        "colab": {
          "base_uri": "https://localhost:8080/"
        },
        "id": "_ybtyA5H2OJz",
        "outputId": "e42e4f1e-3273-4d52-bd21-0489f15e9728"
      },
      "execution_count": 3,
      "outputs": [
        {
          "output_type": "stream",
          "name": "stdout",
          "text": [
            "Type: Four Wheeler, Brand: Tesla, Battery: 75 kWh\n"
          ]
        }
      ]
    },
    {
      "cell_type": "code",
      "source": [
        "''' Demonstrate polymorphism by creating a base class Bird with a method fly(). Create two derived classes\n",
        "Sparrow and Penguin that override the fly() method.'''\n",
        "class Bird:\n",
        "    def fly(self):\n",
        "        print(\"Some bird is flying.\")\n",
        "\n",
        "class Sparrow(Bird):\n",
        "    def fly(self):\n",
        "        print(\"Sparrow flies high in the sky.\")\n",
        "\n",
        "class Penguin(Bird):\n",
        "    def fly(self):\n",
        "        print(\"Penguins can't fly, they swim.\")\n",
        "\n",
        "def show_flight(bird):\n",
        "    bird.fly()\n",
        "\n",
        "sparrow = Sparrow()\n",
        "penguin = Penguin()\n",
        "\n",
        "show_flight(sparrow)\n",
        "show_flight(penguin)\n"
      ],
      "metadata": {
        "colab": {
          "base_uri": "https://localhost:8080/"
        },
        "id": "usWgbQ0g2qHr",
        "outputId": "dd309bc8-283e-49f7-c206-387c8d8952c5"
      },
      "execution_count": 4,
      "outputs": [
        {
          "output_type": "stream",
          "name": "stdout",
          "text": [
            "Sparrow flies high in the sky.\n",
            "Penguins can't fly, they swim.\n"
          ]
        }
      ]
    },
    {
      "cell_type": "code",
      "source": [
        "'''Write a program to demonstrate encapsulation by creating a class BankAccount with private attributes\n",
        "balance and methods to deposit, withdraw, and check balance.'''\n",
        "class BankAccount:\n",
        "    def __init__(self, initial_balance=0):\n",
        "        self.__balance = initial_balance\n",
        "\n",
        "    def deposit(self, amount):\n",
        "        if amount > 0:\n",
        "            self.__balance += amount\n",
        "\n",
        "    def withdraw(self, amount):\n",
        "        if 0 < amount <= self.__balance:\n",
        "            self.__balance -= amount\n",
        "        else:\n",
        "            print(\"Insufficient balance.\")\n",
        "\n",
        "    def check_balance(self):\n",
        "        return self.__balance\n",
        "\n",
        "account = BankAccount(1000)\n",
        "account.deposit(500)\n",
        "account.withdraw(200)\n",
        "print(account.check_balance())\n"
      ],
      "metadata": {
        "colab": {
          "base_uri": "https://localhost:8080/"
        },
        "id": "GJSMMthB22Fr",
        "outputId": "a52a5ae2-6a79-4d59-9560-8be9594f1fba"
      },
      "execution_count": 5,
      "outputs": [
        {
          "output_type": "stream",
          "name": "stdout",
          "text": [
            "1300\n"
          ]
        }
      ]
    },
    {
      "cell_type": "code",
      "source": [
        "''' Demonstrate runtime polymorphism using a method play() in a base class Instrument. Derive classes Guitar\n",
        "and Piano that implement their own version of play().'''\n",
        "class Instrument:\n",
        "    def play(self):\n",
        "        print(\"Playing some instrument.\")\n",
        "\n",
        "class Guitar(Instrument):\n",
        "    def play(self):\n",
        "        print(\"Strumming the guitar.\")\n",
        "\n",
        "class Piano(Instrument):\n",
        "    def play(self):\n",
        "        print(\"Playing the piano.\")\n",
        "\n",
        "def start_playing(instrument):\n",
        "    instrument.play()\n",
        "\n",
        "guitar = Guitar()\n",
        "piano = Piano()\n",
        "\n",
        "start_playing(guitar)\n",
        "start_playing(piano)\n"
      ],
      "metadata": {
        "colab": {
          "base_uri": "https://localhost:8080/"
        },
        "id": "AwE68KJv3NZD",
        "outputId": "2e812826-93c6-4995-9b77-af7cdf29c255"
      },
      "execution_count": 6,
      "outputs": [
        {
          "output_type": "stream",
          "name": "stdout",
          "text": [
            "Strumming the guitar.\n",
            "Playing the piano.\n"
          ]
        }
      ]
    },
    {
      "cell_type": "code",
      "source": [
        "''' Create a class MathOperations with a class method add_numbers() to add two numbers and a static\n",
        "method subtract_numbers() to subtract two numbers.'''\n",
        "class MathOperations:\n",
        "    @classmethod\n",
        "    def add_numbers(cls, a, b):\n",
        "        return a + b\n",
        "\n",
        "    @staticmethod\n",
        "    def subtract_numbers(a, b):\n",
        "        return a - b\n",
        "\n",
        "print(MathOperations.add_numbers(10, 5))\n",
        "print(MathOperations.subtract_numbers(10, 5))\n"
      ],
      "metadata": {
        "colab": {
          "base_uri": "https://localhost:8080/"
        },
        "id": "HD23uaGv354z",
        "outputId": "6f401cd4-3673-424f-f4d6-ad4c41e93b49"
      },
      "execution_count": 8,
      "outputs": [
        {
          "output_type": "stream",
          "name": "stdout",
          "text": [
            "15\n",
            "5\n"
          ]
        }
      ]
    },
    {
      "cell_type": "code",
      "source": [
        "''' Implement a class Person with a class method to count the total number of persons created.'''\n",
        "class Person:\n",
        "    count = 0\n",
        "\n",
        "    def __init__(self, name):\n",
        "        self.name = name\n",
        "        Person.count += 1\n",
        "\n",
        "    @classmethod\n",
        "    def total_persons(cls):\n",
        "        return cls.count\n",
        "\n",
        "p1 = Person(\"Alice\")\n",
        "p2 = Person(\"Bob\")\n",
        "p3 = Person(\"Charlie\")\n",
        "\n",
        "print(Person.total_persons())\n"
      ],
      "metadata": {
        "colab": {
          "base_uri": "https://localhost:8080/"
        },
        "id": "Cw1BncVb4BZL",
        "outputId": "d1a7bcb7-2ec4-444f-f7cb-639f9d9469ed"
      },
      "execution_count": 9,
      "outputs": [
        {
          "output_type": "stream",
          "name": "stdout",
          "text": [
            "3\n"
          ]
        }
      ]
    },
    {
      "cell_type": "code",
      "source": [
        "'''Write a class Fraction with attributes numerator and denominator. Override the str method to display the\n",
        "fraction as \"numerator/denominator\".'''\n",
        "class Fraction:\n",
        "    def __init__(self, numerator, denominator):\n",
        "        self.numerator = numerator\n",
        "        self.denominator = denominator\n",
        "\n",
        "    def __str__(self):\n",
        "        return f\"{self.numerator}/{self.denominator}\"\n",
        "\n",
        "f = Fraction(3, 4)\n",
        "print(f)\n"
      ],
      "metadata": {
        "colab": {
          "base_uri": "https://localhost:8080/"
        },
        "id": "To-eP6KO4OaU",
        "outputId": "13ef6862-3a86-4112-e68d-36000d8ee043"
      },
      "execution_count": 10,
      "outputs": [
        {
          "output_type": "stream",
          "name": "stdout",
          "text": [
            "3/4\n"
          ]
        }
      ]
    },
    {
      "cell_type": "code",
      "source": [
        "'''Demonstrate operator overloading by creating a class Vector and overriding the add method to add two\n",
        "vectors.'''\n",
        "class Vector:\n",
        "    def __init__(self, x, y):\n",
        "        self.x = x\n",
        "        self.y = y\n",
        "\n",
        "    def __add__(self, other):\n",
        "        return Vector(self.x + other.x, self.y + other.y)\n",
        "\n",
        "    def __str__(self):\n",
        "        return f\"Vector({self.x}, {self.y})\"\n",
        "\n",
        "v1 = Vector(2, 3)\n",
        "v2 = Vector(4, 5)\n",
        "v3 = v1 + v2\n",
        "\n",
        "print(v3)\n"
      ],
      "metadata": {
        "colab": {
          "base_uri": "https://localhost:8080/"
        },
        "id": "SEi0IFU64VzD",
        "outputId": "e85ffc72-1224-48af-f80e-2600730c5387"
      },
      "execution_count": 11,
      "outputs": [
        {
          "output_type": "stream",
          "name": "stdout",
          "text": [
            "Vector(6, 8)\n"
          ]
        }
      ]
    },
    {
      "cell_type": "code",
      "source": [
        "''' Create a class Person with attributes name and age. Add a method greet() that prints \"Hello, my name is\n",
        "{name} and I am {age} years old.\"'''\n",
        "class Person:\n",
        "    def __init__(self, name, age):\n",
        "        self.name = name\n",
        "        self.age = age\n",
        "\n",
        "    def greet(self):\n",
        "        print(f\"Hello, my name is {self.name} and I am {self.age} years old.\")\n",
        "\n",
        "p = Person(\"Tanisha\", 20)\n",
        "p.greet()\n"
      ],
      "metadata": {
        "colab": {
          "base_uri": "https://localhost:8080/"
        },
        "id": "EbGbUuJo4e2z",
        "outputId": "c2b1fc06-d23f-49b0-ef3c-83d128c38761"
      },
      "execution_count": 12,
      "outputs": [
        {
          "output_type": "stream",
          "name": "stdout",
          "text": [
            "Hello, my name is Tanisha and I am 20 years old.\n"
          ]
        }
      ]
    },
    {
      "cell_type": "code",
      "source": [
        "''' Implement a class Student with attributes name and grades. Create a method average_grade() to compute\n",
        "the average of the grades.'''\n",
        "class Student:\n",
        "    def __init__(self, name, grades):\n",
        "        self.name = name\n",
        "        self.grades = grades\n",
        "\n",
        "    def average_grade(self):\n",
        "        return sum(self.grades) / len(self.grades)\n",
        "\n",
        "s = Student(\"Tanisha\", [85, 90, 78, 92])\n",
        "print(s.average_grade())\n"
      ],
      "metadata": {
        "colab": {
          "base_uri": "https://localhost:8080/"
        },
        "id": "R_MBJuC54shc",
        "outputId": "fc2be12f-6359-47c4-8995-9fa477c932eb"
      },
      "execution_count": 13,
      "outputs": [
        {
          "output_type": "stream",
          "name": "stdout",
          "text": [
            "86.25\n"
          ]
        }
      ]
    },
    {
      "cell_type": "code",
      "source": [
        "''' Create a class Rectangle with methods set_dimensions() to set the dimensions and area() to calculate the\n",
        "area.'''\n",
        "class Rectangle:\n",
        "    def set_dimensions(self, length, width):\n",
        "        self.length = length\n",
        "        self.width = width\n",
        "\n",
        "    def area(self):\n",
        "        return self.length * self.width\n",
        "\n",
        "r = Rectangle()\n",
        "r.set_dimensions(5, 3)\n",
        "print(r.area())\n"
      ],
      "metadata": {
        "colab": {
          "base_uri": "https://localhost:8080/"
        },
        "id": "NdAJ3_J94-5U",
        "outputId": "46187d5e-abdc-4774-ed22-6bb642e98cbc"
      },
      "execution_count": 14,
      "outputs": [
        {
          "output_type": "stream",
          "name": "stdout",
          "text": [
            "15\n"
          ]
        }
      ]
    },
    {
      "cell_type": "code",
      "source": [
        "''' Create a class Employee with a method calculate_salary() that computes the salary based on hours worked\n",
        "and hourly rate. Create a derived class Manager that adds a bonus to the salary.'''\n",
        "class Employee:\n",
        "    def __init__(self, hours_worked, hourly_rate):\n",
        "        self.hours_worked = hours_worked\n",
        "        self.hourly_rate = hourly_rate\n",
        "\n",
        "    def calculate_salary(self):\n",
        "        return self.hours_worked * self.hourly_rate\n",
        "\n",
        "class Manager(Employee):\n",
        "    def __init__(self, hours_worked, hourly_rate, bonus):\n",
        "        super().__init__(hours_worked, hourly_rate)\n",
        "        self.bonus = bonus\n",
        "\n",
        "    def calculate_salary(self):\n",
        "        return super().calculate_salary() + self.bonus\n",
        "\n",
        "e = Employee(40, 50)\n",
        "m = Manager(40, 50, 500)\n",
        "\n",
        "print(e.calculate_salary())\n",
        "print(m.calculate_salary())\n"
      ],
      "metadata": {
        "colab": {
          "base_uri": "https://localhost:8080/"
        },
        "id": "WHHeOsb15HlT",
        "outputId": "e9e5f8ba-2b20-4334-8bc6-de1a05c09f4c"
      },
      "execution_count": 15,
      "outputs": [
        {
          "output_type": "stream",
          "name": "stdout",
          "text": [
            "2000\n",
            "2500\n"
          ]
        }
      ]
    },
    {
      "cell_type": "code",
      "source": [
        "'''Create a class Product with attributes name, price, and quantity. Implement a method total_price() that\n",
        "calculates the total price of the product.'''\n",
        "class Product:\n",
        "    def __init__(self, name, price, quantity):\n",
        "        self.name = name\n",
        "        self.price = price\n",
        "        self.quantity = quantity\n",
        "\n",
        "    def total_price(self):\n",
        "        return self.price * self.quantity\n",
        "\n",
        "p = Product(\"Laptop\", 50000, 2)\n",
        "print(p.total_price())\n"
      ],
      "metadata": {
        "colab": {
          "base_uri": "https://localhost:8080/"
        },
        "id": "ZQTuHN8O5QPj",
        "outputId": "598aa5e0-e274-481f-c472-28a074c9dad0"
      },
      "execution_count": 16,
      "outputs": [
        {
          "output_type": "stream",
          "name": "stdout",
          "text": [
            "100000\n"
          ]
        }
      ]
    },
    {
      "cell_type": "code",
      "source": [
        "'''Create a class Animal with an abstract method sound(). Create two derived classes Cow and Sheep that\n",
        "implement the sound() method.'''\n",
        "from abc import ABC, abstractmethod\n",
        "\n",
        "class Animal(ABC):\n",
        "    @abstractmethod\n",
        "    def sound(self):\n",
        "        pass\n",
        "\n",
        "class Cow(Animal):\n",
        "    def sound(self):\n",
        "        return \"Moo\"\n",
        "\n",
        "class Sheep(Animal):\n",
        "    def sound(self):\n",
        "        return \"Baa\"\n",
        "\n",
        "c = Cow()\n",
        "s = Sheep()\n",
        "\n",
        "print(c.sound())\n",
        "print(s.sound())\n"
      ],
      "metadata": {
        "colab": {
          "base_uri": "https://localhost:8080/"
        },
        "id": "m_iA-Ssb5ZLU",
        "outputId": "f978ac2a-04cb-48d9-8633-71295507f55a"
      },
      "execution_count": 17,
      "outputs": [
        {
          "output_type": "stream",
          "name": "stdout",
          "text": [
            "Moo\n",
            "Baa\n"
          ]
        }
      ]
    },
    {
      "cell_type": "code",
      "source": [
        "''' Create a class Book with attributes title, author, and year_published. Add a method get_book_info() that\n",
        "returns a formatted string with the book's details.'''\n",
        "class Book:\n",
        "    def __init__(self, title, author, year_published):\n",
        "        self.title = title\n",
        "        self.author = author\n",
        "        self.year_published = year_published\n",
        "\n",
        "    def get_book_info(self):\n",
        "        return f\"'{self.title}' by {self.author}, published in {self.year_published}\"\n",
        "\n",
        "b = Book(\"To Kill a Mockingbird\", \"Harper Lee\", 1960)\n",
        "print(b.get_book_info())\n"
      ],
      "metadata": {
        "colab": {
          "base_uri": "https://localhost:8080/"
        },
        "id": "f87bY1hw5jnr",
        "outputId": "8e4100aa-5557-40b3-e59b-61c291727c6c"
      },
      "execution_count": 18,
      "outputs": [
        {
          "output_type": "stream",
          "name": "stdout",
          "text": [
            "'To Kill a Mockingbird' by Harper Lee, published in 1960\n"
          ]
        }
      ]
    },
    {
      "cell_type": "code",
      "source": [
        "'''Create a class House with attributes address and price. Create a derived class Mansion that adds an\n",
        "attribute number_of_rooms.'''\n",
        "class House:\n",
        "    def __init__(self, address, price):\n",
        "        self.address = address\n",
        "        self.price = price\n",
        "\n",
        "class Mansion(House):\n",
        "    def __init__(self, address, price, number_of_rooms):\n",
        "        super().__init__(address, price)\n",
        "        self.number_of_rooms = number_of_rooms\n",
        "\n",
        "m = Mansion(\"123 Dream St\", 5000000, 10)\n",
        "print(m.address, m.price, m.number_of_rooms)\n"
      ],
      "metadata": {
        "colab": {
          "base_uri": "https://localhost:8080/"
        },
        "id": "qpz2kZ735uNT",
        "outputId": "ca7a3937-e176-4387-e044-285125c57c7c"
      },
      "execution_count": 19,
      "outputs": [
        {
          "output_type": "stream",
          "name": "stdout",
          "text": [
            "123 Dream St 5000000 10\n"
          ]
        }
      ]
    }
  ]
}